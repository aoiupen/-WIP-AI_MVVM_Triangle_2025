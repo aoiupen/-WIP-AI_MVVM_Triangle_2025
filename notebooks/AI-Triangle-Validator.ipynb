{
  "cells": [
    {
      "cell_type": "code",
      "execution_count": null,
      "metadata": {},
      "outputs": [],
      "source": [
        "!\"{sys.executable}\" -m pip install --upgrade pip\n",
        "!\"{sys.executable}\" -m pip install numpy\n",
        "!\"{sys.executable}\" -m pip install tensorflow\n",
        "!\"{sys.executable}\" -m pip install StandardScaler\n",
        "!\"{sys.executable}\" -m pip install scikit-learn\n",
        "!\"{sys.executable}\" -m pip install joblib"
      ]
    },
    {
      "cell_type": "code",
      "execution_count": 96,
      "metadata": {
        "id": "fsYmaPJ2z8z2"
      },
      "outputs": [],
      "source": [
        "import sys\n",
        "import tensorflow as tf\n",
        "from tensorflow.keras import layers, models\n",
        "from sklearn.preprocessing import StandardScaler\n",
        "from sklearn.model_selection import train_test_split\n",
        "import joblib\n",
        "import numpy as np\n",
        "import os\n",
        "import random\n"
      ]
    },
    {
      "cell_type": "code",
      "execution_count": 97,
      "metadata": {
        "id": "0mnXIGRGzwsB"
      },
      "outputs": [],
      "source": [
        "import numpy as np\n",
        "import random\n",
        "\n",
        "# 기존 전역 변수들\n",
        "seed = 42\n",
        "np.random.seed(seed)\n",
        "tf.random.set_seed(seed) # TensorFlow 시드도 설정 (셀 3에서 이미 했지만, 여기서도 명시)\n",
        "random.seed(seed)\n",
        "os.environ['PYTHONHASHSEED'] = str(seed)\n",
        "\n",
        "MIN_LEN = 1 # 0으로 하면 a+b=c 같은 경우 0,0,0 이 나올 수 있어 1로 유지\n",
        "MAX_LEN = 100\n",
        "INPUT_SHAPE_MODEL = (3,)\n",
        "\n",
        "# --- 일반 랜덤 케이스 생성 함수 ---\n",
        "def gen_random_triangle_sides(num_target_samples_each_type):\n",
        "    \"\"\"일반적인 성공/실패 케이스를 각각 num_target_samples_each_type 만큼 랜덤 생성\"\"\"\n",
        "    success_cases = []\n",
        "    fail_cases = []\n",
        "    while len(success_cases) < num_target_samples_each_type or len(fail_cases) < num_target_samples_each_type:\n",
        "        sides = np.random.randint(MIN_LEN, MAX_LEN + 1, 3)\n",
        "        # 생성된 sides가 이미 해당 타입의 목표량을 채웠으면 다른 타입만 시도\n",
        "        if is_valid_triangle(sides):\n",
        "            if len(success_cases) < num_target_samples_each_type:\n",
        "                success_cases.append(sides)\n",
        "        else:\n",
        "            if len(fail_cases) < num_target_samples_each_type:\n",
        "                fail_cases.append(sides)\n",
        "    return np.array(success_cases), np.array(fail_cases)\n",
        "\n",
        "# --- 엣지 케이스 생성 함수들 ---\n",
        "def gen_edge_degenerate_fail_cases(num_target_samples):\n",
        "    \"\"\"엣지 실패 케이스 1: a + b = c (c가 가장 긴 변)\"\"\"\n",
        "    fail_cases = []\n",
        "    while len(fail_cases) < num_target_samples:\n",
        "        # 두 변 a, b를 랜덤 생성\n",
        "        a = np.random.randint(MIN_LEN, MAX_LEN // 2 + 1) # a+b=c 이므로 a, b가 너무 크면 c가 MAX_LEN 초과\n",
        "        b = np.random.randint(MIN_LEN, MAX_LEN // 2 + 1)\n",
        "        c = a + b\n",
        "        if MIN_LEN <= c <= MAX_LEN: # c도 범위 내에 있어야 함\n",
        "            sides = sorted([a, b, c]) # 함수 내부에서 사용하기 위해 정렬된 값\n",
        "            if not is_valid_triangle(sides): # 실제 삼각형이 아님을 재확인 (a+b=c는 삼각형이 아님)\n",
        "                 fail_cases.append(np.array(sides)) # 저장 시에는 정렬 안해도 무방하나, 일관성 위해 정렬\n",
        "    return np.array(fail_cases)\n",
        "\n",
        "def gen_edge_narrow_fail_cases(num_target_samples):\n",
        "    \"\"\"엣지 실패 케이스 2: 0 < a + b - c < MAX_LEN / 20 (아슬아슬하게 안되는 경우)\"\"\"\n",
        "    fail_cases = []\n",
        "    delta_upper_bound = MAX_LEN / 20\n",
        "    while len(fail_cases) < num_target_samples:\n",
        "        # c (가장 긴 변)를 먼저 설정하는 것이 조건 맞추기 용이\n",
        "        c = np.random.randint(MIN_LEN + int(delta_upper_bound) + 1, MAX_LEN + 1) # a+b가 c보다 약간 작아야 하므로 c는 너무 작으면 안됨\n",
        "        # a + b = c + delta (여기서 delta는 - (MAX_LEN/20) < delta < 0)\n",
        "        # delta 값 (매우 작은 음수 값)\n",
        "        # 실제로는 a+b-c = (작은 양수) 이므로, a+b = c + (작은 양수)\n",
        "        # is_valid_triangle에서는 a+b > c 로 판별하므로, a+b-c가 음수 또는 0이어야 함\n",
        "        # 수정: a+b-c가 (0, MAX_LEN/20) 사이의 음수값이 되도록. 즉 c - (a+b) 가 (0, MAX_LEN/20)\n",
        "        diff = random.uniform(0.001, delta_upper_bound - 0.001) # c가 a+b보다 이만큼 더 크도록\n",
        "        \n",
        "        # a, b를 생성. a+b = c - diff\n",
        "        # 한 변 a를 먼저 생성\n",
        "        # MIN_LEN <= a <= c - MIN_LEN - diff (b가 MIN_LEN 이상이 되도록)\n",
        "        # MAX_LEN을 넘지 않도록 주의\n",
        "        if c - diff - MIN_LEN < MIN_LEN : continue # a를 만들 범위가 없으면 스킵\n",
        "\n",
        "        a = np.random.randint(MIN_LEN, int(min(MAX_LEN, c - diff - MIN_LEN)) + 1)\n",
        "        b = c - diff - a\n",
        "\n",
        "        if MIN_LEN <= b <= MAX_LEN and b > 0 and a <= b <=c : # b의 유효성 및 정렬된 상태 가정\n",
        "            sides = sorted([a, int(round(b)), c]) # b가 float일 수 있으므로 반올림\n",
        "            if not is_valid_triangle(sides) and (sides[0]+sides[1] < sides[2]) and (sides[2]-(sides[0]+sides[1]) < delta_upper_bound) and (sides[2]-(sides[0]+sides[1]) > 0) :\n",
        "                 fail_cases.append(np.array(sides))\n",
        "            # 실패하면 다른 값으로 재시도 (루프 계속)\n",
        "    return np.array(fail_cases)\n",
        "\n",
        "\n",
        "def gen_edge_narrow_success_cases(num_target_samples):\n",
        "    \"\"\"엣지 성공 케이스: MAX_LEN / 20 <= a + b - c (c가 가장 긴 변)\n",
        "       그리고 너무 차이가 크지 않도록 a + b - c <= MAX_LEN / 10 정도로 제한 가능\n",
        "    \"\"\"\n",
        "    success_cases = []\n",
        "    delta_lower_bound = MAX_LEN / 20\n",
        "    delta_upper_bound = MAX_LEN / 10 # 너무 쉽게 성공하는 경우를 약간 제한\n",
        "    while len(success_cases) < num_target_samples:\n",
        "        c = np.random.randint(MIN_LEN, MAX_LEN + 1)\n",
        "        # a + b = c + delta (여기서 delta는 delta_lower_bound와 delta_upper_bound 사이)\n",
        "        diff = random.uniform(delta_lower_bound, delta_upper_bound)\n",
        "        \n",
        "        # a, b를 생성. a+b = c + diff\n",
        "        # 한 변 a를 먼저 생성. \n",
        "        # MIN_LEN <= a <= c + diff - MIN_LEN (b가 MIN_LEN 이상)\n",
        "        # MAX_LEN을 넘지 않도록 주의\n",
        "        # c+diff-MIN_LEN 이 MIN_LEN 보다 작으면 a 생성 불가\n",
        "        if c + diff - MIN_LEN < MIN_LEN : continue\n",
        "\n",
        "        # a의 상한은 MAX_LEN과 (c+diff-MIN_LEN) 중 작은 값\n",
        "        a_upper_limit = int(min(MAX_LEN, c + diff - MIN_LEN))\n",
        "        if MIN_LEN > a_upper_limit: continue # a를 만들 범위가 없으면 스킵\n",
        "            \n",
        "        a = np.random.randint(MIN_LEN, a_upper_limit + 1)\n",
        "        b = c + diff - a\n",
        "\n",
        "        if MIN_LEN <= b <= MAX_LEN and b > 0:\n",
        "            sides = sorted([a, int(round(b)), c]) # b가 float일 수 있으므로 반올림\n",
        "            if is_valid_triangle(sides) and (sides[0]+sides[1]-sides[2] >= delta_lower_bound) and (sides[0]+sides[1]-sides[2] <= delta_upper_bound) :\n",
        "                 success_cases.append(np.array(sides))\n",
        "            # 실패하면 다른 값으로 재시도\n",
        "    return np.array(success_cases)\n",
        "\n",
        "# --- 삼각형 유효성 검사 함수 ---\n",
        "def is_valid_triangle(three_sides):\n",
        "    \"\"\"세 변이 삼각형을 이룰 수 있는지 체크\"\"\"\n",
        "    a, b, c = sorted(np.round(three_sides).astype(int)) # 정수형으로 변환 후 정렬\n",
        "    # 모든 변이 MIN_LEN 이상인지 먼저 체크 (0이나 음수 방지)\n",
        "    if not (a >= MIN_LEN and b >= MIN_LEN and c >= MIN_LEN):\n",
        "        return False\n",
        "    return (a + b) > c"
      ]
    },
    {
      "cell_type": "code",
      "execution_count": 98,
      "metadata": {
        "id": "kyg6FEwazylt"
      },
      "outputs": [],
      "source": [
        "# --- 전체 샘플 수 및 각 타입별 샘플 수 정의 ---\n",
        "num_total_samples = 100000 # 예시로 10만개, 필요시 조정\n",
        "\n",
        "# 일반 케이스 (70%)\n",
        "num_general_samples_total = int(num_total_samples * 0.70)\n",
        "num_general_samples_each_type = num_general_samples_total // 2 # 성공/실패 각각\n",
        "\n",
        "# 엣지 케이스 (총 30%)\n",
        "num_edge_degenerate_fail = int(num_total_samples * 0.05)    # a+b=c\n",
        "num_edge_narrow_fail = int(num_total_samples * 0.10)        # 아슬아슬 실패\n",
        "num_edge_narrow_success = int(num_total_samples * 0.15)     # 아슬아슬 성공\n",
        "\n",
        "# --- 데이터 생성 실행 ---\n",
        "print(\"일반 케이스 생성 중...\")\n",
        "general_success_cases, general_fail_cases = gen_random_triangle_sides(num_general_samples_each_type)\n",
        "print(f\"일반 성공: {len(general_success_cases)}, 일반 실패: {len(general_fail_cases)}\")\n",
        "\n",
        "print(\"엣지 케이스 (a+b=c, 실패) 생성 중...\")\n",
        "edge_fail_degenerate = gen_edge_degenerate_fail_cases(num_edge_degenerate_fail)\n",
        "print(f\"엣지 (a+b=c) 실패: {len(edge_fail_degenerate)}\")\n",
        "\n",
        "print(\"엣지 케이스 (아슬아슬 실패) 생성 중...\")\n",
        "edge_fail_narrow = gen_edge_narrow_fail_cases(num_edge_narrow_fail)\n",
        "print(f\"엣지 (아슬아슬) 실패: {len(edge_fail_narrow)}\")\n",
        "\n",
        "print(\"엣지 케이스 (아슬아슬 성공) 생성 중...\")\n",
        "edge_success_narrow = gen_edge_narrow_success_cases(num_edge_narrow_success)\n",
        "print(f\"엣지 (아슬아슬) 성공: {len(edge_success_narrow)}\")\n",
        "\n",
        "# --- 모든 성공 케이스와 실패 케이스 결합 ---\n",
        "all_success_cases = np.concatenate([general_success_cases, edge_success_narrow])\n",
        "all_fail_cases = np.concatenate([general_fail_cases, edge_fail_degenerate, edge_fail_narrow])\n",
        "\n",
        "print(f\"총 성공 케이스: {len(all_success_cases)}\")\n",
        "print(f\"총 실패 케이스: {len(all_fail_cases)}\")"
      ]
    },
    {
      "cell_type": "code",
      "execution_count": null,
      "metadata": {},
      "outputs": [
        {
          "name": "stdout",
          "output_type": "stream",
          "text": [
            "X_train shape: (1600000, 3), y_train shape: (1600000,)\n",
            "X_test shape: (400000, 3), y_test shape: (400000,)\n"
          ]
        }
      ],
      "source": [
        "# 데이터 결합 및 라벨 생성\n",
        "all_cases = np.concatenate([all_success_cases, all_fail_cases]) # 수정된 코드\n",
        "labels = np.concatenate([np.ones(len(all_success_cases)), np.zeros(len(all_fail_cases))])\n",
        "\n",
        "# 데이터 정규화 (StandardScaler 사용)\n",
        "scaler = StandardScaler()\n",
        "# all_cases는 이미 (N, 3) 형태이므로 reshape 불필요\n",
        "norm_all_cases = scaler.fit_transform(all_cases) \n",
        "joblib.dump(scaler, 'scaler.pkl')\n",
        "\n",
        "# 학습/테스트 데이터 분리\n",
        "X_train, X_test, y_train, y_test = train_test_split(\n",
        "    norm_all_cases, labels, test_size=0.2, random_state=seed, stratify=labels\n",
        ")\n",
        "\n",
        "print(f\"X_train shape: {X_train.shape}, y_train shape: {y_train.shape}\")\n",
        "print(f\"X_test shape: {X_test.shape}, y_test shape: {y_test.shape}\")"
      ]
    },
    {
      "cell_type": "code",
      "execution_count": 100,
      "metadata": {},
      "outputs": [
        {
          "name": "stdout",
          "output_type": "stream",
          "text": [
            "X_train shape: (1600000, 3), y_train shape: (1600000,)\n",
            "X_test shape: (400000, 3), y_test shape: (400000,)\n"
          ]
        }
      ],
      "source": [
        "# 데이터 결합 및 라벨 생성\n",
        "all_cases = np.concatenate([success_cases, fail_cases])\n",
        "labels = np.concatenate([np.ones(len(success_cases)), np.zeros(len(fail_cases))])\n",
        "\n",
        "# 셀 6에서 StandardScaler 대신\n",
        "from sklearn.preprocessing import MinMaxScaler\n",
        "scaler = MinMaxScaler()\n",
        "norm_all_cases = scaler.fit_transform(all_cases)\n",
        "joblib.dump(scaler, 'scaler.pkl') # scaler 저장\n",
        "\n",
        "# 학습/테스트 데이터 분리\n",
        "X_train, X_test, y_train, y_test = train_test_split(\n",
        "    norm_all_cases, labels, test_size=0.2, random_state=seed, stratify=labels\n",
        ")\n",
        "\n",
        "print(f\"X_train shape: {X_train.shape}, y_train shape: {y_train.shape}\")\n",
        "print(f\"X_test shape: {X_test.shape}, y_test shape: {y_test.shape}\")"
      ]
    },
    {
      "cell_type": "code",
      "execution_count": 101,
      "metadata": {
        "colab": {
          "base_uri": "https://localhost:8080/"
        },
        "id": "uUuvKlWz2Ptc",
        "outputId": "c7e716fe-b09b-44b7-b9c4-931a41cc9f2e"
      },
      "outputs": [
        {
          "data": {
            "text/html": [
              "<pre style=\"white-space:pre;overflow-x:auto;line-height:normal;font-family:Menlo,'DejaVu Sans Mono',consolas,'Courier New',monospace\"><span style=\"font-weight: bold\">Model: \"sequential_8\"</span>\n",
              "</pre>\n"
            ],
            "text/plain": [
              "\u001b[1mModel: \"sequential_8\"\u001b[0m\n"
            ]
          },
          "metadata": {},
          "output_type": "display_data"
        },
        {
          "data": {
            "text/html": [
              "<pre style=\"white-space:pre;overflow-x:auto;line-height:normal;font-family:Menlo,'DejaVu Sans Mono',consolas,'Courier New',monospace\">┏━━━━━━━━━━━━━━━━━━━━━━━━━━━━━━━━━┳━━━━━━━━━━━━━━━━━━━━━━━━┳━━━━━━━━━━━━━━━┓\n",
              "┃<span style=\"font-weight: bold\"> Layer (type)                    </span>┃<span style=\"font-weight: bold\"> Output Shape           </span>┃<span style=\"font-weight: bold\">       Param # </span>┃\n",
              "┡━━━━━━━━━━━━━━━━━━━━━━━━━━━━━━━━━╇━━━━━━━━━━━━━━━━━━━━━━━━╇━━━━━━━━━━━━━━━┩\n",
              "│ dense_21 (<span style=\"color: #0087ff; text-decoration-color: #0087ff\">Dense</span>)                │ (<span style=\"color: #00d7ff; text-decoration-color: #00d7ff\">None</span>, <span style=\"color: #00af00; text-decoration-color: #00af00\">128</span>)            │           <span style=\"color: #00af00; text-decoration-color: #00af00\">512</span> │\n",
              "├─────────────────────────────────┼────────────────────────┼───────────────┤\n",
              "│ dropout_4 (<span style=\"color: #0087ff; text-decoration-color: #0087ff\">Dropout</span>)             │ (<span style=\"color: #00d7ff; text-decoration-color: #00d7ff\">None</span>, <span style=\"color: #00af00; text-decoration-color: #00af00\">128</span>)            │             <span style=\"color: #00af00; text-decoration-color: #00af00\">0</span> │\n",
              "├─────────────────────────────────┼────────────────────────┼───────────────┤\n",
              "│ dense_22 (<span style=\"color: #0087ff; text-decoration-color: #0087ff\">Dense</span>)                │ (<span style=\"color: #00d7ff; text-decoration-color: #00d7ff\">None</span>, <span style=\"color: #00af00; text-decoration-color: #00af00\">64</span>)             │         <span style=\"color: #00af00; text-decoration-color: #00af00\">8,256</span> │\n",
              "├─────────────────────────────────┼────────────────────────┼───────────────┤\n",
              "│ dropout_5 (<span style=\"color: #0087ff; text-decoration-color: #0087ff\">Dropout</span>)             │ (<span style=\"color: #00d7ff; text-decoration-color: #00d7ff\">None</span>, <span style=\"color: #00af00; text-decoration-color: #00af00\">64</span>)             │             <span style=\"color: #00af00; text-decoration-color: #00af00\">0</span> │\n",
              "├─────────────────────────────────┼────────────────────────┼───────────────┤\n",
              "│ dense_23 (<span style=\"color: #0087ff; text-decoration-color: #0087ff\">Dense</span>)                │ (<span style=\"color: #00d7ff; text-decoration-color: #00d7ff\">None</span>, <span style=\"color: #00af00; text-decoration-color: #00af00\">32</span>)             │         <span style=\"color: #00af00; text-decoration-color: #00af00\">2,080</span> │\n",
              "├─────────────────────────────────┼────────────────────────┼───────────────┤\n",
              "│ dense_24 (<span style=\"color: #0087ff; text-decoration-color: #0087ff\">Dense</span>)                │ (<span style=\"color: #00d7ff; text-decoration-color: #00d7ff\">None</span>, <span style=\"color: #00af00; text-decoration-color: #00af00\">1</span>)              │            <span style=\"color: #00af00; text-decoration-color: #00af00\">33</span> │\n",
              "└─────────────────────────────────┴────────────────────────┴───────────────┘\n",
              "</pre>\n"
            ],
            "text/plain": [
              "┏━━━━━━━━━━━━━━━━━━━━━━━━━━━━━━━━━┳━━━━━━━━━━━━━━━━━━━━━━━━┳━━━━━━━━━━━━━━━┓\n",
              "┃\u001b[1m \u001b[0m\u001b[1mLayer (type)                   \u001b[0m\u001b[1m \u001b[0m┃\u001b[1m \u001b[0m\u001b[1mOutput Shape          \u001b[0m\u001b[1m \u001b[0m┃\u001b[1m \u001b[0m\u001b[1m      Param #\u001b[0m\u001b[1m \u001b[0m┃\n",
              "┡━━━━━━━━━━━━━━━━━━━━━━━━━━━━━━━━━╇━━━━━━━━━━━━━━━━━━━━━━━━╇━━━━━━━━━━━━━━━┩\n",
              "│ dense_21 (\u001b[38;5;33mDense\u001b[0m)                │ (\u001b[38;5;45mNone\u001b[0m, \u001b[38;5;34m128\u001b[0m)            │           \u001b[38;5;34m512\u001b[0m │\n",
              "├─────────────────────────────────┼────────────────────────┼───────────────┤\n",
              "│ dropout_4 (\u001b[38;5;33mDropout\u001b[0m)             │ (\u001b[38;5;45mNone\u001b[0m, \u001b[38;5;34m128\u001b[0m)            │             \u001b[38;5;34m0\u001b[0m │\n",
              "├─────────────────────────────────┼────────────────────────┼───────────────┤\n",
              "│ dense_22 (\u001b[38;5;33mDense\u001b[0m)                │ (\u001b[38;5;45mNone\u001b[0m, \u001b[38;5;34m64\u001b[0m)             │         \u001b[38;5;34m8,256\u001b[0m │\n",
              "├─────────────────────────────────┼────────────────────────┼───────────────┤\n",
              "│ dropout_5 (\u001b[38;5;33mDropout\u001b[0m)             │ (\u001b[38;5;45mNone\u001b[0m, \u001b[38;5;34m64\u001b[0m)             │             \u001b[38;5;34m0\u001b[0m │\n",
              "├─────────────────────────────────┼────────────────────────┼───────────────┤\n",
              "│ dense_23 (\u001b[38;5;33mDense\u001b[0m)                │ (\u001b[38;5;45mNone\u001b[0m, \u001b[38;5;34m32\u001b[0m)             │         \u001b[38;5;34m2,080\u001b[0m │\n",
              "├─────────────────────────────────┼────────────────────────┼───────────────┤\n",
              "│ dense_24 (\u001b[38;5;33mDense\u001b[0m)                │ (\u001b[38;5;45mNone\u001b[0m, \u001b[38;5;34m1\u001b[0m)              │            \u001b[38;5;34m33\u001b[0m │\n",
              "└─────────────────────────────────┴────────────────────────┴───────────────┘\n"
            ]
          },
          "metadata": {},
          "output_type": "display_data"
        },
        {
          "data": {
            "text/html": [
              "<pre style=\"white-space:pre;overflow-x:auto;line-height:normal;font-family:Menlo,'DejaVu Sans Mono',consolas,'Courier New',monospace\"><span style=\"font-weight: bold\"> Total params: </span><span style=\"color: #00af00; text-decoration-color: #00af00\">10,881</span> (42.50 KB)\n",
              "</pre>\n"
            ],
            "text/plain": [
              "\u001b[1m Total params: \u001b[0m\u001b[38;5;34m10,881\u001b[0m (42.50 KB)\n"
            ]
          },
          "metadata": {},
          "output_type": "display_data"
        },
        {
          "data": {
            "text/html": [
              "<pre style=\"white-space:pre;overflow-x:auto;line-height:normal;font-family:Menlo,'DejaVu Sans Mono',consolas,'Courier New',monospace\"><span style=\"font-weight: bold\"> Trainable params: </span><span style=\"color: #00af00; text-decoration-color: #00af00\">10,881</span> (42.50 KB)\n",
              "</pre>\n"
            ],
            "text/plain": [
              "\u001b[1m Trainable params: \u001b[0m\u001b[38;5;34m10,881\u001b[0m (42.50 KB)\n"
            ]
          },
          "metadata": {},
          "output_type": "display_data"
        },
        {
          "data": {
            "text/html": [
              "<pre style=\"white-space:pre;overflow-x:auto;line-height:normal;font-family:Menlo,'DejaVu Sans Mono',consolas,'Courier New',monospace\"><span style=\"font-weight: bold\"> Non-trainable params: </span><span style=\"color: #00af00; text-decoration-color: #00af00\">0</span> (0.00 B)\n",
              "</pre>\n"
            ],
            "text/plain": [
              "\u001b[1m Non-trainable params: \u001b[0m\u001b[38;5;34m0\u001b[0m (0.00 B)\n"
            ]
          },
          "metadata": {},
          "output_type": "display_data"
        }
      ],
      "source": [
        "# AI 모델 생성 (Create AI model)\n",
        "model = models.Sequential([\n",
        "    layers.Input(shape=INPUT_SHAPE_MODEL),\n",
        "    layers.Dense(128, activation='relu'),\n",
        "    layers.Dropout(0.2), # 과적합 방지 (현재는 과적합이 아니지만, 모델 복잡도 증가 시 고려)\n",
        "    layers.Dense(64, activation='relu'),\n",
        "    layers.Dropout(0.2),\n",
        "    layers.Dense(32, activation='relu'),\n",
        "    layers.Dense(1, activation='sigmoid')\n",
        "])\n",
        "\n",
        "# 모델 컴파일 (Compile model)\n",
        "model.compile(optimizer='adam', loss='binary_crossentropy', metrics=['accuracy'])\n",
        "model.summary()"
      ]
    },
    {
      "cell_type": "code",
      "execution_count": 102,
      "metadata": {},
      "outputs": [
        {
          "name": "stdout",
          "output_type": "stream",
          "text": [
            "Epoch 1/25\n",
            "\u001b[1m50000/50000\u001b[0m \u001b[32m━━━━━━━━━━━━━━━━━━━━\u001b[0m\u001b[37m\u001b[0m \u001b[1m52s\u001b[0m 1ms/step - accuracy: 0.9764 - loss: 0.0546 - val_accuracy: 0.9898 - val_loss: 0.0184\n",
            "Epoch 2/25\n",
            "\u001b[1m50000/50000\u001b[0m \u001b[32m━━━━━━━━━━━━━━━━━━━━\u001b[0m\u001b[37m\u001b[0m \u001b[1m52s\u001b[0m 1ms/step - accuracy: 0.9895 - loss: 0.0255 - val_accuracy: 0.9896 - val_loss: 0.0287\n",
            "Epoch 3/25\n",
            "\u001b[1m50000/50000\u001b[0m \u001b[32m━━━━━━━━━━━━━━━━━━━━\u001b[0m\u001b[37m\u001b[0m \u001b[1m53s\u001b[0m 1ms/step - accuracy: 0.9914 - loss: 0.0210 - val_accuracy: 0.9922 - val_loss: 0.0196\n",
            "Epoch 4/25\n",
            "\u001b[1m50000/50000\u001b[0m \u001b[32m━━━━━━━━━━━━━━━━━━━━\u001b[0m\u001b[37m\u001b[0m \u001b[1m52s\u001b[0m 1ms/step - accuracy: 0.9924 - loss: 0.0189 - val_accuracy: 0.9985 - val_loss: 0.0080\n",
            "Epoch 5/25\n",
            "\u001b[1m50000/50000\u001b[0m \u001b[32m━━━━━━━━━━━━━━━━━━━━\u001b[0m\u001b[37m\u001b[0m \u001b[1m53s\u001b[0m 1ms/step - accuracy: 0.9935 - loss: 0.0165 - val_accuracy: 0.9955 - val_loss: 0.0099\n",
            "Epoch 6/25\n",
            "\u001b[1m50000/50000\u001b[0m \u001b[32m━━━━━━━━━━━━━━━━━━━━\u001b[0m\u001b[37m\u001b[0m \u001b[1m52s\u001b[0m 1ms/step - accuracy: 0.9939 - loss: 0.0155 - val_accuracy: 0.9981 - val_loss: 0.0089\n",
            "Epoch 7/25\n",
            "\u001b[1m50000/50000\u001b[0m \u001b[32m━━━━━━━━━━━━━━━━━━━━\u001b[0m\u001b[37m\u001b[0m \u001b[1m52s\u001b[0m 1ms/step - accuracy: 0.9945 - loss: 0.0140 - val_accuracy: 0.9981 - val_loss: 0.0075\n",
            "Epoch 8/25\n",
            "\u001b[1m50000/50000\u001b[0m \u001b[32m━━━━━━━━━━━━━━━━━━━━\u001b[0m\u001b[37m\u001b[0m \u001b[1m52s\u001b[0m 1ms/step - accuracy: 0.9948 - loss: 0.0136 - val_accuracy: 0.9955 - val_loss: 0.0095\n",
            "Epoch 9/25\n",
            "\u001b[1m50000/50000\u001b[0m \u001b[32m━━━━━━━━━━━━━━━━━━━━\u001b[0m\u001b[37m\u001b[0m \u001b[1m50s\u001b[0m 1ms/step - accuracy: 0.9951 - loss: 0.0131 - val_accuracy: 0.9989 - val_loss: 0.0047\n",
            "Epoch 10/25\n",
            "\u001b[1m50000/50000\u001b[0m \u001b[32m━━━━━━━━━━━━━━━━━━━━\u001b[0m\u001b[37m\u001b[0m \u001b[1m48s\u001b[0m 958us/step - accuracy: 0.9955 - loss: 0.0122 - val_accuracy: 0.9946 - val_loss: 0.0126\n",
            "Epoch 11/25\n",
            "\u001b[1m50000/50000\u001b[0m \u001b[32m━━━━━━━━━━━━━━━━━━━━\u001b[0m\u001b[37m\u001b[0m \u001b[1m46s\u001b[0m 927us/step - accuracy: 0.9956 - loss: 0.0120 - val_accuracy: 0.9958 - val_loss: 0.0094\n",
            "Epoch 12/25\n",
            "\u001b[1m50000/50000\u001b[0m \u001b[32m━━━━━━━━━━━━━━━━━━━━\u001b[0m\u001b[37m\u001b[0m \u001b[1m46s\u001b[0m 928us/step - accuracy: 0.9957 - loss: 0.0115 - val_accuracy: 0.9957 - val_loss: 0.0132\n",
            "Epoch 13/25\n",
            "\u001b[1m50000/50000\u001b[0m \u001b[32m━━━━━━━━━━━━━━━━━━━━\u001b[0m\u001b[37m\u001b[0m \u001b[1m46s\u001b[0m 921us/step - accuracy: 0.9960 - loss: 0.0111 - val_accuracy: 0.9942 - val_loss: 0.0225\n",
            "Epoch 14/25\n",
            "\u001b[1m50000/50000\u001b[0m \u001b[32m━━━━━━━━━━━━━━━━━━━━\u001b[0m\u001b[37m\u001b[0m \u001b[1m47s\u001b[0m 929us/step - accuracy: 0.9961 - loss: 0.0109 - val_accuracy: 0.9966 - val_loss: 0.0078\n",
            "Epoch 15/25\n",
            "\u001b[1m50000/50000\u001b[0m \u001b[32m━━━━━━━━━━━━━━━━━━━━\u001b[0m\u001b[37m\u001b[0m \u001b[1m46s\u001b[0m 929us/step - accuracy: 0.9962 - loss: 0.0105 - val_accuracy: 0.9999 - val_loss: 0.0034\n",
            "Epoch 16/25\n",
            "\u001b[1m50000/50000\u001b[0m \u001b[32m━━━━━━━━━━━━━━━━━━━━\u001b[0m\u001b[37m\u001b[0m \u001b[1m46s\u001b[0m 923us/step - accuracy: 0.9963 - loss: 0.0104 - val_accuracy: 0.9957 - val_loss: 0.0091\n",
            "Epoch 17/25\n",
            "\u001b[1m50000/50000\u001b[0m \u001b[32m━━━━━━━━━━━━━━━━━━━━\u001b[0m\u001b[37m\u001b[0m \u001b[1m47s\u001b[0m 929us/step - accuracy: 0.9966 - loss: 0.0097 - val_accuracy: 0.9971 - val_loss: 0.0063\n",
            "Epoch 18/25\n",
            "\u001b[1m50000/50000\u001b[0m \u001b[32m━━━━━━━━━━━━━━━━━━━━\u001b[0m\u001b[37m\u001b[0m \u001b[1m49s\u001b[0m 975us/step - accuracy: 0.9966 - loss: 0.0095 - val_accuracy: 0.9949 - val_loss: 0.0151\n",
            "Epoch 19/25\n",
            "\u001b[1m50000/50000\u001b[0m \u001b[32m━━━━━━━━━━━━━━━━━━━━\u001b[0m\u001b[37m\u001b[0m \u001b[1m51s\u001b[0m 1ms/step - accuracy: 0.9967 - loss: 0.0093 - val_accuracy: 0.9997 - val_loss: 0.0029\n",
            "Epoch 20/25\n",
            "\u001b[1m50000/50000\u001b[0m \u001b[32m━━━━━━━━━━━━━━━━━━━━\u001b[0m\u001b[37m\u001b[0m \u001b[1m50s\u001b[0m 994us/step - accuracy: 0.9968 - loss: 0.0092 - val_accuracy: 0.9979 - val_loss: 0.0046\n",
            "Epoch 21/25\n",
            "\u001b[1m50000/50000\u001b[0m \u001b[32m━━━━━━━━━━━━━━━━━━━━\u001b[0m\u001b[37m\u001b[0m \u001b[1m50s\u001b[0m 997us/step - accuracy: 0.9970 - loss: 0.0087 - val_accuracy: 1.0000 - val_loss: 9.8585e-04\n",
            "Epoch 22/25\n",
            "\u001b[1m50000/50000\u001b[0m \u001b[32m━━━━━━━━━━━━━━━━━━━━\u001b[0m\u001b[37m\u001b[0m \u001b[1m52s\u001b[0m 1ms/step - accuracy: 0.9969 - loss: 0.0089 - val_accuracy: 0.9999 - val_loss: 0.0015\n",
            "Epoch 23/25\n",
            "\u001b[1m50000/50000\u001b[0m \u001b[32m━━━━━━━━━━━━━━━━━━━━\u001b[0m\u001b[37m\u001b[0m \u001b[1m53s\u001b[0m 1ms/step - accuracy: 0.9969 - loss: 0.0092 - val_accuracy: 1.0000 - val_loss: 7.3487e-04\n",
            "Epoch 24/25\n",
            "\u001b[1m50000/50000\u001b[0m \u001b[32m━━━━━━━━━━━━━━━━━━━━\u001b[0m\u001b[37m\u001b[0m \u001b[1m49s\u001b[0m 981us/step - accuracy: 0.9971 - loss: 0.0087 - val_accuracy: 1.0000 - val_loss: 8.3604e-04\n",
            "Epoch 25/25\n",
            "\u001b[1m50000/50000\u001b[0m \u001b[32m━━━━━━━━━━━━━━━━━━━━\u001b[0m\u001b[37m\u001b[0m \u001b[1m49s\u001b[0m 971us/step - accuracy: 0.9971 - loss: 0.0086 - val_accuracy: 1.0000 - val_loss: 0.0010\n",
            "\u001b[1m12500/12500\u001b[0m \u001b[32m━━━━━━━━━━━━━━━━━━━━\u001b[0m\u001b[37m\u001b[0m \u001b[1m8s\u001b[0m 624us/step - accuracy: 1.0000 - loss: 9.9954e-04\n",
            "Test Accuracy: 1.0000\n"
          ]
        }
      ],
      "source": [
        "# 모델 학습 (Train Model) - 학습 데이터 사용\n",
        "history = model.fit(X_train, y_train, epochs=25, batch_size=32, validation_data=(X_test, y_test))\n",
        "\n",
        "# 모델 평가 (Evaluate Model) - 테스트 데이터 사용\n",
        "loss, accuracy = model.evaluate(X_test, y_test)\n",
        "print(f'Test Accuracy: {accuracy:.4f}')"
      ]
    },
    {
      "cell_type": "code",
      "execution_count": 103,
      "metadata": {
        "colab": {
          "base_uri": "https://localhost:8080/"
        },
        "id": "gukOmbUywLvb",
        "outputId": "4682bf8c-b398-4bb4-c09a-16765ef08fb8"
      },
      "outputs": [
        {
          "name": "stderr",
          "output_type": "stream",
          "text": [
            "WARNING:absl:You are saving your model as an HDF5 file via `model.save()` or `keras.saving.save_model(model)`. This file format is considered legacy. We recommend using instead the native Keras format, e.g. `model.save('my_model.keras')` or `keras.saving.save_model(model, 'my_model.keras')`. \n"
          ]
        },
        {
          "name": "stdout",
          "output_type": "stream",
          "text": [
            "Model saved as model.h5\n"
          ]
        }
      ],
      "source": [
        "# 모델 저장 (Save the model)\n",
        "model.save(\"model.h5\")\n",
        "print(\"Model saved as model.h5\")"
      ]
    },
    {
      "cell_type": "code",
      "execution_count": 104,
      "metadata": {},
      "outputs": [
        {
          "name": "stderr",
          "output_type": "stream",
          "text": [
            "WARNING:absl:Compiled the loaded model, but the compiled metrics have yet to be built. `model.compile_metrics` will be empty until you train or evaluate the model.\n"
          ]
        },
        {
          "name": "stdout",
          "output_type": "stream",
          "text": [
            "\u001b[1m1/1\u001b[0m \u001b[32m━━━━━━━━━━━━━━━━━━━━\u001b[0m\u001b[37m\u001b[0m \u001b[1m0s\u001b[0m 40ms/step\n",
            "\u001b[1m1/1\u001b[0m \u001b[32m━━━━━━━━━━━━━━━━━━━━\u001b[0m\u001b[37m\u001b[0m \u001b[1m0s\u001b[0m 25ms/step\n",
            "Prediction for [3 4 5]: 0.9999 (Expected > 0.5)\n",
            "Prediction for [ 1  2 10]: 0.0000 (Expected < 0.5)\n"
          ]
        }
      ],
      "source": [
        "# 저장된 모델과 scaler를 사용한 예측 예시\n",
        "loaded_model = models.load_model(\"model.h5\")\n",
        "loaded_scaler = joblib.load(\"scaler.pkl\")\n",
        "\n",
        "# 예시 데이터 (정규화 필요)\n",
        "example_valid = np.array([[3, 4, 5]]) # 유효\n",
        "example_invalid = np.array([[1, 2, 10]]) # 유효하지 않음\n",
        "\n",
        "norm_example_valid = loaded_scaler.transform(example_valid)\n",
        "norm_example_invalid = loaded_scaler.transform(example_invalid)\n",
        "\n",
        "prediction_valid = loaded_model.predict(norm_example_valid)\n",
        "prediction_invalid = loaded_model.predict(norm_example_invalid)\n",
        "\n",
        "print(f\"Prediction for {example_valid[0]}: {prediction_valid[0][0]:.4f} (Expected > 0.5)\")\n",
        "print(f\"Prediction for {example_invalid[0]}: {prediction_invalid[0][0]:.4f} (Expected < 0.5)\")"
      ]
    },
    {
      "cell_type": "code",
      "execution_count": 105,
      "metadata": {},
      "outputs": [
        {
          "name": "stdout",
          "output_type": "stream",
          "text": [
            "GPU is not available\n"
          ]
        }
      ],
      "source": [
        "import tensorflow as tf\n",
        "\n",
        "# GPU 사용 여부 확인\n",
        "gpus = tf.config.list_physical_devices('GPU')\n",
        "if gpus:\n",
        "    try:\n",
        "        # 현재 프로그램에 필요한 만큼만 GPU 메모리 할당\n",
        "        for gpu in gpus:\n",
        "            tf.config.experimental.set_memory_growth(gpu, True)\n",
        "        logical_gpus = tf.config.list_logical_devices('GPU')\n",
        "        print(len(gpus), \"Physical GPUs,\", len(logical_gpus), \"Logical GPUs\")\n",
        "    except RuntimeError as e:\n",
        "        # 프로그램 시작 후에는 메모리 증가 설정을 변경할 수 없으므로 오류 발생 가능\n",
        "        print(e)\n",
        "    print(\"GPU is available\")\n",
        "else:\n",
        "    print(\"GPU is not available\")"
      ]
    },
    {
      "cell_type": "code",
      "execution_count": 106,
      "metadata": {},
      "outputs": [
        {
          "data": {
            "image/png": "[encoded data removed]",
            "text/plain": [
              "<Figure size 1200x400 with 2 Axes>"
            ]
          },
          "metadata": {},
          "output_type": "display_data"
        }
      ],
      "source": [
        "import matplotlib.pyplot as plt\n",
        "\n",
        "# 정확도 그래프\n",
        "plt.figure(figsize=(12, 4))\n",
        "plt.subplot(1, 2, 1)\n",
        "plt.plot(history.history['accuracy'], label='Train Accuracy')\n",
        "plt.plot(history.history['val_accuracy'], label='Validation Accuracy')\n",
        "plt.title('Model Accuracy')\n",
        "plt.xlabel('Epoch')\n",
        "plt.ylabel('Accuracy')\n",
        "plt.legend()\n",
        "\n",
        "# 손실 그래프\n",
        "plt.subplot(1, 2, 2)\n",
        "plt.plot(history.history['loss'], label='Train Loss')\n",
        "plt.plot(history.history['val_loss'], label='Validation Loss')\n",
        "plt.title('Model Loss')\n",
        "plt.xlabel('Epoch')\n",
        "plt.ylabel('Loss')\n",
        "plt.legend()\n",
        "\n",
        "plt.tight_layout()\n",
        "plt.show()"
      ]
    },
    {
      "cell_type": "code",
      "execution_count": 107,
      "metadata": {},
      "outputs": [
        {
          "name": "stderr",
          "output_type": "stream",
          "text": [
            "WARNING:absl:Compiled the loaded model, but the compiled metrics have yet to be built. `model.compile_metrics` will be empty until you train or evaluate the model.\n"
          ]
        },
        {
          "name": "stdout",
          "output_type": "stream",
          "text": [
            "Model Predictions (0 = Invalid, 1 = Valid):\n",
            "\u001b[1m1/1\u001b[0m \u001b[32m━━━━━━━━━━━━━━━━━━━━\u001b[0m\u001b[37m\u001b[0m \u001b[1m0s\u001b[0m 45ms/step\n",
            "- Valid (3,4,5): Predicted 0.9999 (Actual: Valid)\n",
            "\u001b[1m1/1\u001b[0m \u001b[32m━━━━━━━━━━━━━━━━━━━━\u001b[0m\u001b[37m\u001b[0m \u001b[1m0s\u001b[0m 26ms/step\n",
            "- Valid (5,12,13): Predicted 0.9999 (Actual: Valid)\n",
            "\u001b[1m1/1\u001b[0m \u001b[32m━━━━━━━━━━━━━━━━━━━━\u001b[0m\u001b[37m\u001b[0m \u001b[1m0s\u001b[0m 23ms/step\n",
            "- Valid (7,7,7) (Equilateral): Predicted 0.9999 (Actual: Valid)\n",
            "\u001b[1m1/1\u001b[0m \u001b[32m━━━━━━━━━━━━━━━━━━━━\u001b[0m\u001b[37m\u001b[0m \u001b[1m0s\u001b[0m 21ms/step\n",
            "- Valid (5,5,8) (Isosceles): Predicted 0.9999 (Actual: Valid)\n",
            "\u001b[1m1/1\u001b[0m \u001b[32m━━━━━━━━━━━━━━━━━━━━\u001b[0m\u001b[37m\u001b[0m \u001b[1m0s\u001b[0m 22ms/step\n",
            "- Invalid (1,2,10): Predicted 0.0000 (Actual: Invalid)\n",
            "\u001b[1m1/1\u001b[0m \u001b[32m━━━━━━━━━━━━━━━━━━━━\u001b[0m\u001b[37m\u001b[0m \u001b[1m0s\u001b[0m 33ms/step\n",
            "- Invalid (5,5,10) (Degenerate): Predicted 0.0436 (Actual: Invalid)\n",
            "\u001b[1m1/1\u001b[0m \u001b[32m━━━━━━━━━━━━━━━━━━━━\u001b[0m\u001b[37m\u001b[0m \u001b[1m0s\u001b[0m 23ms/step\n",
            "- Invalid (1,100,100.5) (Near valid): Predicted 0.7119 (Actual: Valid)\n",
            "\u001b[1m1/1\u001b[0m \u001b[32m━━━━━━━━━━━━━━━━━━━━\u001b[0m\u001b[37m\u001b[0m \u001b[1m0s\u001b[0m 25ms/step\n",
            "- Invalid (0,0,0): Predicted 0.0001 (Actual: Invalid)\n",
            "\u001b[1m1/1\u001b[0m \u001b[32m━━━━━━━━━━━━━━━━━━━━\u001b[0m\u001b[37m\u001b[0m \u001b[1m0s\u001b[0m 22ms/step\n",
            "- Valid (large_1): Predicted 1.0000 (Actual: Valid)\n",
            "\u001b[1m1/1\u001b[0m \u001b[32m━━━━━━━━━━━━━━━━━━━━\u001b[0m\u001b[37m\u001b[0m \u001b[1m0s\u001b[0m 22ms/step\n",
            "- Invalid (large_2): Predicted 0.0000 (Actual: Invalid)\n"
          ]
        }
      ],
      "source": [
        "# 저장된 모델과 scaler를 사용한 예측 예시\n",
        "loaded_model = models.load_model(\"model.h5\")\n",
        "loaded_scaler = joblib.load(\"scaler.pkl\")\n",
        "\n",
        "# 테스트할 예시 데이터들\n",
        "examples = {\n",
        "    \"Valid (3,4,5)\": np.array([[3, 4, 5]]),\n",
        "    \"Valid (5,12,13)\": np.array([[5, 12, 13]]),\n",
        "    \"Valid (7,7,7) (Equilateral)\": np.array([[7, 7, 7]]),\n",
        "    \"Valid (5,5,8) (Isosceles)\": np.array([[5, 5, 8]]),\n",
        "    \"Invalid (1,2,10)\": np.array([[1, 2, 10]]),\n",
        "    \"Invalid (5,5,10) (Degenerate)\": np.array([[5, 5, 10]]), # a+b = c\n",
        "    \"Invalid (1,100,100.5) (Near valid)\": np.array([[1, 100, 100.5]]),\n",
        "    \"Invalid (0,0,0)\": np.array([[0,0,0]]), # Should be invalid, though MIN_LEN is 1\n",
        "    \"Valid (large_1)\": np.array([[500, 600, 700]]),\n",
        "    \"Invalid (large_2)\": np.array([[10, 20, 1000]]),\n",
        "}\n",
        "\n",
        "print(\"Model Predictions (0 = Invalid, 1 = Valid):\")\n",
        "for name, data in examples.items():\n",
        "    # 데이터 정규화\n",
        "    norm_data = loaded_scaler.transform(data)\n",
        "    # 예측\n",
        "    prediction = loaded_model.predict(norm_data)\n",
        "    # 결과 출력\n",
        "    is_actually_valid = is_valid_triangle(data[0]) # 실제 유효성 검사\n",
        "    print(f\"- {name}: Predicted {prediction[0][0]:.4f} (Actual: {'Valid' if is_actually_valid else 'Invalid'})\")\n"
      ]
    },
    {
      "cell_type": "code",
      "execution_count": null,
      "metadata": {},
      "outputs": [],
      "source": []
    },
    {
      "cell_type": "code",
      "execution_count": null,
      "metadata": {},
      "outputs": [],
      "source": []
    }
  ],
  "metadata": {
    "accelerator": "GPU",
    "colab": {
      "gpuType": "T4",
      "provenance": []
    },
    "kernelspec": {
      "display_name": ".venv",
      "language": "python",
      "name": "python3"
    },
    "language_info": {
      "codemirror_mode": {
        "name": "ipython",
        "version": 3
      },
      "file_extension": ".py",
      "mimetype": "text/x-python",
      "name": "python",
      "nbconvert_exporter": "python",
      "pygments_lexer": "ipython3",
      "version": "3.10.11"
    }
  },
  "nbformat": 4,
  "nbformat_minor": 0
}
