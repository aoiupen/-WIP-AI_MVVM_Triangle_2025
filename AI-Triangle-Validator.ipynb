{
  "cells": [
    {
      "cell_type": "code",
      "execution_count": 1,
      "metadata": {},
      "outputs": [
        {
          "name": "stderr",
          "output_type": "stream",
          "text": [
            "'\"{sys.executable}\"'��(��) ���� �Ǵ� �ܺ� ����, ������ �� �ִ� ���α׷�, �Ǵ�\n",
            "��ġ ������ �ƴմϴ�.\n",
            "'\"{sys.executable}\"'��(��) ���� �Ǵ� �ܺ� ����, ������ �� �ִ� ���α׷�, �Ǵ�\n",
            "��ġ ������ �ƴմϴ�.\n",
            "'\"{sys.executable}\"'��(��) ���� �Ǵ� �ܺ� ����, ������ �� �ִ� ���α׷�, �Ǵ�\n",
            "��ġ ������ �ƴմϴ�.\n",
            "'\"{sys.executable}\"'��(��) ���� �Ǵ� �ܺ� ����, ������ �� �ִ� ���α׷�, �Ǵ�\n",
            "��ġ ������ �ƴմϴ�.\n"
          ]
        }
      ],
      "source": [
        "!\"{sys.executable}\" -m pip install --upgrade pip\n",
        "!\"{sys.executable}\" -m pip install numpy\n",
        "!\"{sys.executable}\" -m pip install tensorflow\n",
        "!\"{sys.executable}\" -m pip install StandardScaler"
      ]
    },
    {
      "cell_type": "code",
      "execution_count": 2,
      "metadata": {
        "id": "fsYmaPJ2z8z2"
      },
      "outputs": [],
      "source": [
        "import sys\n",
        "import tensorflow as tf\n",
        "from tensorflow.keras import layers, models\n",
        "from sklearn.preprocessing import StandardScaler"
      ]
    },
    {
      "cell_type": "code",
      "execution_count": 3,
      "metadata": {
        "id": "0mnXIGRGzwsB"
      },
      "outputs": [],
      "source": [
        "import numpy as np\n",
        "\n",
        "MIN_LEN = 1\n",
        "MAX_LEN = 1000\n",
        "INPUT_SHAPE = (3, 1)\n",
        "\n",
        "# 성공/실패 케이스 각각 num_samples 갯수만큼 생성 (gen_triangle_sides)\n",
        "def gen_triangle_sides(num_samples):\n",
        "    success_cases = []\n",
        "    fail_cases = []\n",
        "    success_cnt = 0\n",
        "    fail_cnt = 0\n",
        "\n",
        "    while True:\n",
        "        # 세 변의 길이를 랜덤으로 생성 (Get three sides by random)\n",
        "        three_sides = np.random.randint(MIN_LEN, MAX_LEN, INPUT_SHAPE)\n",
        "\n",
        "        # 가장 긴 변 < 나머지 두 변의 합 : 성공 (the lofailest side < the sum of the others  suceess)\n",
        "        if is_valid_triangle(three_sides):\n",
        "            if success_cnt < num_samples:\n",
        "                success_cases.append(three_sides)\n",
        "                success_cnt += 1\n",
        "        else:\n",
        "            if fail_cnt < num_samples:\n",
        "                fail_cases.append(three_sides)\n",
        "                fail_cnt += 1\n",
        "\n",
        "        # If the data for the entire sample size has been obtained, escape loop\n",
        "        if success_cnt == num_samples and fail_cnt == num_samples:\n",
        "            break\n",
        "\n",
        "    return np.array(success_cases), np.array(fail_cases)\n",
        "\n",
        "# 세 변이 삼각형을 이룰 수 있는지 체크 (Check whether it is possible to form a triangle with three sides)\n",
        "def is_valid_triangle(three_sides):\n",
        "    max_len = max(three_sides)\n",
        "    others_len = sum(three_sides) - max_len\n",
        "    return True if others_len > max_len else False\n"
      ]
    },
    {
      "cell_type": "code",
      "execution_count": null,
      "metadata": {
        "id": "kyg6FEwazylt"
      },
      "outputs": [],
      "source": [
        "# gen data for train\n",
        "num_samples = 1000000\n",
        "success_cases, fail_cases = gen_triangle_sides(num_samples)"
      ]
    },
    {
      "cell_type": "code",
      "execution_count": null,
      "metadata": {},
      "outputs": [],
      "source": [
        "# 데이터 정규화\n",
        "scaler = StandardScaler()\n",
        "norm_success_cases = scaler.fit_transform(success_cases.reshape(-1, 3)).reshape(-1, 3, 1)\n",
        "norm_fail_cases = scaler.fit_transform(fail_cases.reshape(-1, 3)).reshape(-1, 3, 1)"
      ]
    },
    {
      "cell_type": "code",
      "execution_count": null,
      "metadata": {},
      "outputs": [],
      "source": [
        "# 성공/실패 케이스 결합\n",
        "triangles = np.concatenate([norm_success_cases, norm_fail_cases])\n",
        "# 레이블 생성 (성공 케이스는 1, 실패 케이스는 0)\n",
        "labels = np.concatenate([np.ones(num_samples), np.zeros(num_samples)])"
      ]
    },
    {
      "cell_type": "code",
      "execution_count": null,
      "metadata": {
        "colab": {
          "base_uri": "https://localhost:8080/"
        },
        "id": "uUuvKlWz2Ptc",
        "outputId": "c7e716fe-b09b-44b7-b9c4-931a41cc9f2e"
      },
      "outputs": [],
      "source": [
        "triangles = np.concatenate([norm_success_cases, norm_fail_cases])\n",
        "\n",
        "# AI 모델 생성 (Create AI model)\n",
        "model = models.Sequential([\n",
        "    layers.Flatten(input_shape=(3, 1)),\n",
        "    layers.Dense(64, activation='relu'),\n",
        "    layers.Dense(1, activation='sigmoid')\n",
        "])\n",
        "\n",
        "\n",
        "# 모델 컴파일 (Compile model)\n",
        "model.compile(optimizer='adam', loss='binary_crossentropy', metrics=['accuracy'])\n",
        "\n",
        "# 모델 학습 (Train Model)\n",
        "model.fit(triangles, labels, epochs=8)\n",
        "\n",
        "# Evalidate Model\n",
        "loss, accuracy = model.evaluate(triangles, labels)\n",
        "print(f'Test Accuracy: {accuracy}')"
      ]
    },
    {
      "cell_type": "code",
      "execution_count": null,
      "metadata": {},
      "outputs": [],
      "source": [
        "\n",
        "# 모델 저장 (Save the model)\n",
        "model.save(\"model.h5\")"
      ]
    },
    {
      "cell_type": "code",
      "execution_count": null,
      "metadata": {
        "colab": {
          "base_uri": "https://localhost:8080/"
        },
        "id": "gukOmbUywLvb",
        "outputId": "4682bf8c-b398-4bb4-c09a-16765ef08fb8"
      },
      "outputs": [],
      "source": [
        "# Example\n",
        "example = np.array([1,2.1,1])\n",
        "single_traiangle_coors = np.array([example])\n",
        "predictions = model.predict(single_traiangle_coors)\n",
        "predictions"
      ]
    },
    {
      "cell_type": "code",
      "execution_count": null,
      "metadata": {},
      "outputs": [],
      "source": [
        "import tensorflow as tf\n",
        "\n",
        "# GPU 사용 여부 확인\n",
        "gpus = tf.config.list_physical_devices('GPU')\n",
        "if gpus:\n",
        "    print(\"GPU is available\")\n",
        "else:\n",
        "    print(\"GPU is not available\")"
      ]
    }
  ],
  "metadata": {
    "accelerator": "GPU",
    "colab": {
      "gpuType": "T4",
      "provenance": []
    },
    "kernelspec": {
      "display_name": ".venv",
      "language": "python",
      "name": "python3"
    },
    "language_info": {
      "codemirror_mode": {
        "name": "ipython",
        "version": 3
      },
      "file_extension": ".py",
      "mimetype": "text/x-python",
      "name": "python",
      "nbconvert_exporter": "python",
      "pygments_lexer": "ipython3",
      "version": "3.10.11"
    }
  },
  "nbformat": 4,
  "nbformat_minor": 0
}
