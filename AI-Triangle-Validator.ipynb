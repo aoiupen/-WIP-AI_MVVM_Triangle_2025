{
  "cells": [
    {
      "cell_type": "code",
      "execution_count": 38,
      "metadata": {},
      "outputs": [
        {
          "name": "stdout",
          "output_type": "stream",
          "text": [
            "Requirement already satisfied: pip in c:\\users\\desktop\\.pyenv\\pyenv-win\\versions\\3.10.11\\lib\\site-packages (25.0.1)\n",
            "Requirement already satisfied: numpy in c:\\users\\desktop\\.pyenv\\pyenv-win\\versions\\3.10.11\\lib\\site-packages (2.0.2)\n",
            "Requirement already satisfied: tensorflow in c:\\users\\desktop\\.pyenv\\pyenv-win\\versions\\3.10.11\\lib\\site-packages (2.18.0)\n",
            "Requirement already satisfied: tensorflow-intel==2.18.0 in c:\\users\\desktop\\.pyenv\\pyenv-win\\versions\\3.10.11\\lib\\site-packages (from tensorflow) (2.18.0)\n",
            "Requirement already satisfied: absl-py>=1.0.0 in c:\\users\\desktop\\.pyenv\\pyenv-win\\versions\\3.10.11\\lib\\site-packages (from tensorflow-intel==2.18.0->tensorflow) (2.1.0)\n",
            "Requirement already satisfied: astunparse>=1.6.0 in c:\\users\\desktop\\.pyenv\\pyenv-win\\versions\\3.10.11\\lib\\site-packages (from tensorflow-intel==2.18.0->tensorflow) (1.6.3)\n",
            "Requirement already satisfied: flatbuffers>=24.3.25 in c:\\users\\desktop\\.pyenv\\pyenv-win\\versions\\3.10.11\\lib\\site-packages (from tensorflow-intel==2.18.0->tensorflow) (25.1.24)\n",
            "Requirement already satisfied: gast!=0.5.0,!=0.5.1,!=0.5.2,>=0.2.1 in c:\\users\\desktop\\.pyenv\\pyenv-win\\versions\\3.10.11\\lib\\site-packages (from tensorflow-intel==2.18.0->tensorflow) (0.6.0)\n",
            "Requirement already satisfied: google-pasta>=0.1.1 in c:\\users\\desktop\\.pyenv\\pyenv-win\\versions\\3.10.11\\lib\\site-packages (from tensorflow-intel==2.18.0->tensorflow) (0.2.0)\n",
            "Requirement already satisfied: libclang>=13.0.0 in c:\\users\\desktop\\.pyenv\\pyenv-win\\versions\\3.10.11\\lib\\site-packages (from tensorflow-intel==2.18.0->tensorflow) (18.1.1)\n",
            "Requirement already satisfied: opt-einsum>=2.3.2 in c:\\users\\desktop\\.pyenv\\pyenv-win\\versions\\3.10.11\\lib\\site-packages (from tensorflow-intel==2.18.0->tensorflow) (3.4.0)\n",
            "Requirement already satisfied: packaging in c:\\users\\desktop\\.pyenv\\pyenv-win\\versions\\3.10.11\\lib\\site-packages (from tensorflow-intel==2.18.0->tensorflow) (24.2)\n",
            "Requirement already satisfied: protobuf!=4.21.0,!=4.21.1,!=4.21.2,!=4.21.3,!=4.21.4,!=4.21.5,<6.0.0dev,>=3.20.3 in c:\\users\\desktop\\.pyenv\\pyenv-win\\versions\\3.10.11\\lib\\site-packages (from tensorflow-intel==2.18.0->tensorflow) (5.29.3)\n",
            "Requirement already satisfied: requests<3,>=2.21.0 in c:\\users\\desktop\\.pyenv\\pyenv-win\\versions\\3.10.11\\lib\\site-packages (from tensorflow-intel==2.18.0->tensorflow) (2.32.3)\n",
            "Requirement already satisfied: setuptools in c:\\users\\desktop\\.pyenv\\pyenv-win\\versions\\3.10.11\\lib\\site-packages (from tensorflow-intel==2.18.0->tensorflow) (65.5.0)\n",
            "Requirement already satisfied: six>=1.12.0 in c:\\users\\desktop\\.pyenv\\pyenv-win\\versions\\3.10.11\\lib\\site-packages (from tensorflow-intel==2.18.0->tensorflow) (1.17.0)\n",
            "Requirement already satisfied: termcolor>=1.1.0 in c:\\users\\desktop\\.pyenv\\pyenv-win\\versions\\3.10.11\\lib\\site-packages (from tensorflow-intel==2.18.0->tensorflow) (2.5.0)\n",
            "Requirement already satisfied: typing-extensions>=3.6.6 in c:\\users\\desktop\\.pyenv\\pyenv-win\\versions\\3.10.11\\lib\\site-packages (from tensorflow-intel==2.18.0->tensorflow) (4.12.2)\n",
            "Requirement already satisfied: wrapt>=1.11.0 in c:\\users\\desktop\\.pyenv\\pyenv-win\\versions\\3.10.11\\lib\\site-packages (from tensorflow-intel==2.18.0->tensorflow) (1.17.2)\n",
            "Requirement already satisfied: grpcio<2.0,>=1.24.3 in c:\\users\\desktop\\.pyenv\\pyenv-win\\versions\\3.10.11\\lib\\site-packages (from tensorflow-intel==2.18.0->tensorflow) (1.70.0)\n",
            "Requirement already satisfied: tensorboard<2.19,>=2.18 in c:\\users\\desktop\\.pyenv\\pyenv-win\\versions\\3.10.11\\lib\\site-packages (from tensorflow-intel==2.18.0->tensorflow) (2.18.0)\n",
            "Requirement already satisfied: keras>=3.5.0 in c:\\users\\desktop\\.pyenv\\pyenv-win\\versions\\3.10.11\\lib\\site-packages (from tensorflow-intel==2.18.0->tensorflow) (3.8.0)\n",
            "Requirement already satisfied: numpy<2.1.0,>=1.26.0 in c:\\users\\desktop\\.pyenv\\pyenv-win\\versions\\3.10.11\\lib\\site-packages (from tensorflow-intel==2.18.0->tensorflow) (2.0.2)\n",
            "Requirement already satisfied: h5py>=3.11.0 in c:\\users\\desktop\\.pyenv\\pyenv-win\\versions\\3.10.11\\lib\\site-packages (from tensorflow-intel==2.18.0->tensorflow) (3.12.1)\n",
            "Requirement already satisfied: ml-dtypes<0.5.0,>=0.4.0 in c:\\users\\desktop\\.pyenv\\pyenv-win\\versions\\3.10.11\\lib\\site-packages (from tensorflow-intel==2.18.0->tensorflow) (0.4.1)\n",
            "Requirement already satisfied: tensorflow-io-gcs-filesystem>=0.23.1 in c:\\users\\desktop\\.pyenv\\pyenv-win\\versions\\3.10.11\\lib\\site-packages (from tensorflow-intel==2.18.0->tensorflow) (0.31.0)\n",
            "Requirement already satisfied: wheel<1.0,>=0.23.0 in c:\\users\\desktop\\.pyenv\\pyenv-win\\versions\\3.10.11\\lib\\site-packages (from astunparse>=1.6.0->tensorflow-intel==2.18.0->tensorflow) (0.45.1)\n",
            "Requirement already satisfied: rich in c:\\users\\desktop\\.pyenv\\pyenv-win\\versions\\3.10.11\\lib\\site-packages (from keras>=3.5.0->tensorflow-intel==2.18.0->tensorflow) (13.9.4)\n",
            "Requirement already satisfied: namex in c:\\users\\desktop\\.pyenv\\pyenv-win\\versions\\3.10.11\\lib\\site-packages (from keras>=3.5.0->tensorflow-intel==2.18.0->tensorflow) (0.0.8)\n",
            "Requirement already satisfied: optree in c:\\users\\desktop\\.pyenv\\pyenv-win\\versions\\3.10.11\\lib\\site-packages (from keras>=3.5.0->tensorflow-intel==2.18.0->tensorflow) (0.14.0)\n",
            "Requirement already satisfied: charset-normalizer<4,>=2 in c:\\users\\desktop\\.pyenv\\pyenv-win\\versions\\3.10.11\\lib\\site-packages (from requests<3,>=2.21.0->tensorflow-intel==2.18.0->tensorflow) (3.4.1)\n",
            "Requirement already satisfied: idna<4,>=2.5 in c:\\users\\desktop\\.pyenv\\pyenv-win\\versions\\3.10.11\\lib\\site-packages (from requests<3,>=2.21.0->tensorflow-intel==2.18.0->tensorflow) (3.10)\n",
            "Requirement already satisfied: urllib3<3,>=1.21.1 in c:\\users\\desktop\\.pyenv\\pyenv-win\\versions\\3.10.11\\lib\\site-packages (from requests<3,>=2.21.0->tensorflow-intel==2.18.0->tensorflow) (2.3.0)\n",
            "Requirement already satisfied: certifi>=2017.4.17 in c:\\users\\desktop\\.pyenv\\pyenv-win\\versions\\3.10.11\\lib\\site-packages (from requests<3,>=2.21.0->tensorflow-intel==2.18.0->tensorflow) (2025.1.31)\n",
            "Requirement already satisfied: markdown>=2.6.8 in c:\\users\\desktop\\.pyenv\\pyenv-win\\versions\\3.10.11\\lib\\site-packages (from tensorboard<2.19,>=2.18->tensorflow-intel==2.18.0->tensorflow) (3.7)\n",
            "Requirement already satisfied: tensorboard-data-server<0.8.0,>=0.7.0 in c:\\users\\desktop\\.pyenv\\pyenv-win\\versions\\3.10.11\\lib\\site-packages (from tensorboard<2.19,>=2.18->tensorflow-intel==2.18.0->tensorflow) (0.7.2)\n",
            "Requirement already satisfied: werkzeug>=1.0.1 in c:\\users\\desktop\\.pyenv\\pyenv-win\\versions\\3.10.11\\lib\\site-packages (from tensorboard<2.19,>=2.18->tensorflow-intel==2.18.0->tensorflow) (3.1.3)\n",
            "Requirement already satisfied: MarkupSafe>=2.1.1 in c:\\users\\desktop\\.pyenv\\pyenv-win\\versions\\3.10.11\\lib\\site-packages (from werkzeug>=1.0.1->tensorboard<2.19,>=2.18->tensorflow-intel==2.18.0->tensorflow) (3.0.2)\n",
            "Requirement already satisfied: markdown-it-py>=2.2.0 in c:\\users\\desktop\\.pyenv\\pyenv-win\\versions\\3.10.11\\lib\\site-packages (from rich->keras>=3.5.0->tensorflow-intel==2.18.0->tensorflow) (3.0.0)\n",
            "Requirement already satisfied: pygments<3.0.0,>=2.13.0 in c:\\users\\desktop\\.pyenv\\pyenv-win\\versions\\3.10.11\\lib\\site-packages (from rich->keras>=3.5.0->tensorflow-intel==2.18.0->tensorflow) (2.19.1)\n",
            "Requirement already satisfied: mdurl~=0.1 in c:\\users\\desktop\\.pyenv\\pyenv-win\\versions\\3.10.11\\lib\\site-packages (from markdown-it-py>=2.2.0->rich->keras>=3.5.0->tensorflow-intel==2.18.0->tensorflow) (0.1.2)\n",
            "c:\\Users\\DESKTOP\\.pyenv\\pyenv-win\\versions\\3.10.11\\python.exe\n"
          ]
        }
      ],
      "source": [
        "!\"{sys.executable}\" -m pip install --upgrade pip\n",
        "!\"{sys.executable}\" -m pip install numpy\n",
        "!\"{sys.executable}\" -m pip install tensorflow\n",
        "\n",
        "import sys\n",
        "print(sys.executable)"
      ]
    },
    {
      "cell_type": "code",
      "execution_count": 39,
      "metadata": {
        "id": "fsYmaPJ2z8z2"
      },
      "outputs": [],
      "source": [
        "import sys\n",
        "import numpy as np\n",
        "import tensorflow as tf\n",
        "from tensorflow.keras import layers, models\n",
        "\n",
        "MIN_LEN = 1\n",
        "MAX_LEN = 1000\n",
        "INPUT_SHAPE = (3, 1)"
      ]
    },
    {
      "cell_type": "code",
      "execution_count": 40,
      "metadata": {
        "id": "0mnXIGRGzwsB"
      },
      "outputs": [],
      "source": [
        "# 성공/실패 케이스 각각 num_samples 갯수만큼 생성 (gen_triangle_sides)\n",
        "def gen_triangle_sides(num_samples):\n",
        "    success_cases = []\n",
        "    fail_cases = []\n",
        "    success_cnt = 0\n",
        "    fail_cnt = 0\n",
        "\n",
        "    while True:\n",
        "        # 세 변의 길이를 랜덤으로 생성 (Get three sides by random)\n",
        "        three_sides = np.random.randint(MIN_LEN, MAX_LEN, INPUT_SHAPE)\n",
        "\n",
        "        # 가장 긴 변 < 나머지 두 변의 합 : 성공 (the lofailest side < the sum of the others  suceess)\n",
        "        if is_valid_triangle(three_sides):\n",
        "            if success_cnt < num_samples:\n",
        "                success_cases.append(three_sides)\n",
        "                success_cnt += 1\n",
        "        else:\n",
        "            if fail_cnt < num_samples:\n",
        "                fail_cases.append(three_sides)\n",
        "                fail_cnt += 1\n",
        "\n",
        "        # If the data for the entire sample size has been obtained, escape loop\n",
        "        if success_cnt == num_samples and fail_cnt == num_samples:\n",
        "            break\n",
        "\n",
        "    return np.array(success_cases), np.array(fail_cases)\n",
        "\n",
        "# 세 변이 삼각형을 이룰 수 있는지 체크 (Check whether it is possible to form a triangle with three sides)\n",
        "def is_valid_triangle(three_sides):\n",
        "    max_len = max(three_sides)\n",
        "    others_len = sum(three_sides) - max_len\n",
        "    return True if others_len > max_len else False\n"
      ]
    },
    {
      "cell_type": "code",
      "execution_count": 41,
      "metadata": {
        "id": "kyg6FEwazylt"
      },
      "outputs": [],
      "source": [
        "# gen data for train\n",
        "num_samples = 100000\n",
        "success_cases, fail_cases = gen_triangle_sides(num_samples)"
      ]
    },
    {
      "cell_type": "code",
      "execution_count": 42,
      "metadata": {
        "id": "eyEjNqmnXtA3"
      },
      "outputs": [],
      "source": [
        "# 원핫코딩, one hot coding : success = 1, fail = 0\n",
        "labels = np.concatenate([np.ones(len(success_cases)), np.zeros(len(fail_cases))])"
      ]
    },
    {
      "cell_type": "code",
      "execution_count": 43,
      "metadata": {
        "id": "wlZdRPPsu4ra"
      },
      "outputs": [],
      "source": [
        "# 인덱스 섞기 (Shuffle data)\n",
        "success_indices = np.arange(len(success_cases))\n",
        "fail_indices = np.arange(len(fail_cases))\n",
        "\n",
        "np.random.shuffle(success_indices)\n",
        "np.random.shuffle(fail_indices)\n",
        "\n",
        "# 순서가 섞인 인덱스로 리스트의 값 추출하기\n",
        "rand_success_cases = success_cases[success_indices]\n",
        "rand_fail_cases = fail_cases[fail_indices]\n",
        "\n",
        "# 데이터 정규화 (Data normalization)\n",
        "norm_success_cases = rand_success_cases / 255.0\n",
        "norm_fail_cases = rand_fail_cases / 255.0"
      ]
    },
    {
      "cell_type": "code",
      "execution_count": 44,
      "metadata": {
        "colab": {
          "base_uri": "https://localhost:8080/"
        },
        "id": "uUuvKlWz2Ptc",
        "outputId": "c7e716fe-b09b-44b7-b9c4-931a41cc9f2e"
      },
      "outputs": [
        {
          "name": "stderr",
          "output_type": "stream",
          "text": [
            "c:\\Users\\DESKTOP\\.pyenv\\pyenv-win\\versions\\3.10.11\\lib\\site-packages\\keras\\src\\layers\\reshaping\\flatten.py:37: UserWarning: Do not pass an `input_shape`/`input_dim` argument to a layer. When using Sequential models, prefer using an `Input(shape)` object as the first layer in the model instead.\n",
            "  super().__init__(**kwargs)\n"
          ]
        },
        {
          "name": "stdout",
          "output_type": "stream",
          "text": [
            "Epoch 1/8\n",
            "\u001b[1m6250/6250\u001b[0m \u001b[32m━━━━━━━━━━━━━━━━━━━━\u001b[0m\u001b[37m\u001b[0m \u001b[1m14s\u001b[0m 2ms/step - accuracy: 0.8967 - loss: 0.2825\n",
            "Epoch 2/8\n",
            "\u001b[1m6250/6250\u001b[0m \u001b[32m━━━━━━━━━━━━━━━━━━━━\u001b[0m\u001b[37m\u001b[0m \u001b[1m14s\u001b[0m 2ms/step - accuracy: 0.9834 - loss: 0.0706\n",
            "Epoch 3/8\n",
            "\u001b[1m6250/6250\u001b[0m \u001b[32m━━━━━━━━━━━━━━━━━━━━\u001b[0m\u001b[37m\u001b[0m \u001b[1m12s\u001b[0m 2ms/step - accuracy: 0.9899 - loss: 0.0443\n",
            "Epoch 4/8\n",
            "\u001b[1m6250/6250\u001b[0m \u001b[32m━━━━━━━━━━━━━━━━━━━━\u001b[0m\u001b[37m\u001b[0m \u001b[1m13s\u001b[0m 2ms/step - accuracy: 0.9913 - loss: 0.0351\n",
            "Epoch 5/8\n",
            "\u001b[1m6250/6250\u001b[0m \u001b[32m━━━━━━━━━━━━━━━━━━━━\u001b[0m\u001b[37m\u001b[0m \u001b[1m11s\u001b[0m 2ms/step - accuracy: 0.9927 - loss: 0.0288\n",
            "Epoch 6/8\n",
            "\u001b[1m6250/6250\u001b[0m \u001b[32m━━━━━━━━━━━━━━━━━━━━\u001b[0m\u001b[37m\u001b[0m \u001b[1m10s\u001b[0m 2ms/step - accuracy: 0.9938 - loss: 0.0249\n",
            "Epoch 7/8\n",
            "\u001b[1m6250/6250\u001b[0m \u001b[32m━━━━━━━━━━━━━━━━━━━━\u001b[0m\u001b[37m\u001b[0m \u001b[1m11s\u001b[0m 2ms/step - accuracy: 0.9937 - loss: 0.0226\n",
            "Epoch 8/8\n",
            "\u001b[1m6250/6250\u001b[0m \u001b[32m━━━━━━━━━━━━━━━━━━━━\u001b[0m\u001b[37m\u001b[0m \u001b[1m11s\u001b[0m 2ms/step - accuracy: 0.9944 - loss: 0.0208\n",
            "\u001b[1m6250/6250\u001b[0m \u001b[32m━━━━━━━━━━━━━━━━━━━━\u001b[0m\u001b[37m\u001b[0m \u001b[1m9s\u001b[0m 1ms/step - accuracy: 0.9951 - loss: 0.0207\n",
            "Test Accuracy: 0.9962599873542786\n"
          ]
        }
      ],
      "source": [
        "triangles = np.concatenate([norm_success_cases, norm_fail_cases])\n",
        "\n",
        "# AI 모델 생성 (Create AI model)\n",
        "model = models.Sequential([\n",
        "    layers.Flatten(input_shape=(3, 1)),\n",
        "    layers.Dense(64, activation='relu'),\n",
        "    layers.Dense(1, activation='sigmoid')\n",
        "])\n",
        "\n",
        "# Compile model\n",
        "model.compile(optimizer='adam', loss='binary_crossentropy', metrics=['accuracy'])\n",
        "\n",
        "# Train Model\n",
        "model.fit(triangles, labels, epochs=8)\n",
        "\n",
        "# Evalidate Model\n",
        "loss, accuracy = model.evaluate(triangles, labels)\n",
        "print(f'Test Accuracy: {accuracy}')"
      ]
    },
    {
      "cell_type": "code",
      "execution_count": 45,
      "metadata": {
        "colab": {
          "base_uri": "https://localhost:8080/"
        },
        "id": "gukOmbUywLvb",
        "outputId": "4682bf8c-b398-4bb4-c09a-16765ef08fb8"
      },
      "outputs": [
        {
          "name": "stdout",
          "output_type": "stream",
          "text": [
            "\u001b[1m1/1\u001b[0m \u001b[32m━━━━━━━━━━━━━━━━━━━━\u001b[0m\u001b[37m\u001b[0m \u001b[1m0s\u001b[0m 86ms/step\n"
          ]
        },
        {
          "data": {
            "text/plain": [
              "array([[0.00901118]], dtype=float32)"
            ]
          },
          "execution_count": 45,
          "metadata": {},
          "output_type": "execute_result"
        }
      ],
      "source": [
        "# Example\n",
        "example = np.array([1,2.1,1])\n",
        "single_traiangle_coors = np.array([example])\n",
        "predictions = model.predict(single_traiangle_coors)\n",
        "predictions"
      ]
    },
    {
      "cell_type": "code",
      "execution_count": 46,
      "metadata": {},
      "outputs": [
        {
          "name": "stderr",
          "output_type": "stream",
          "text": [
            "WARNING:absl:You are saving your model as an HDF5 file via `model.save()` or `keras.saving.save_model(model)`. This file format is considered legacy. We recommend using instead the native Keras format, e.g. `model.save('my_model.keras')` or `keras.saving.save_model(model, 'my_model.keras')`. \n"
          ]
        }
      ],
      "source": [
        "model.save(\"model.h5\")"
      ]
    },
    {
      "cell_type": "code",
      "execution_count": null,
      "metadata": {},
      "outputs": [],
      "source": []
    }
  ],
  "metadata": {
    "accelerator": "GPU",
    "colab": {
      "gpuType": "T4",
      "provenance": []
    },
    "kernelspec": {
      "display_name": "3.10.11",
      "language": "python",
      "name": "python3"
    },
    "language_info": {
      "codemirror_mode": {
        "name": "ipython",
        "version": 3
      },
      "file_extension": ".py",
      "mimetype": "text/x-python",
      "name": "python",
      "nbconvert_exporter": "python",
      "pygments_lexer": "ipython3",
      "version": "3.10.11"
    }
  },
  "nbformat": 4,
  "nbformat_minor": 0
}
